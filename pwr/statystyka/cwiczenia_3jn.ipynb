{
 "cells": [
  {
   "cell_type": "code",
   "execution_count": null,
   "metadata": {
    "collapsed": true,
    "pycharm": {
     "name": "#%%\n"
    }
   },
   "outputs": [],
   "source": [
    "import numpy as np\n",
    "import seaborn as sns\n",
    "import math\n",
    "import matplotlib.pyplot as plt\n",
    "import pandas as pd\n",
    "from scipy import stats\n",
    "import seaborn as sns\n",
    "import seaborn_qqplot as sqp\n",
    "#Prawdopodobieństwo\n",
    "#Dystrybuanta\n",
    "#Rozkład Poissona\n",
    "#Rozkład normalny\n",
    "#Odchylenie standardowe\n",
    "\n",
    "#zad1\n",
    "x=np.array([-2,-1,0,1,2])\n",
    "y=np.array([0.125,0.25,0.25,0.25,0.125])"
   ]
  },
  {
   "cell_type": "code",
   "execution_count": null,
   "outputs": [],
   "source": [
    "def wariancja(lista,ddof=1):\n",
    "    nnum=lista.__len__()\n",
    "    x_sum=np.sum([np.power(i,2)for i in lista])\n",
    "    x_mean=np.power(np.sum(lista),2)/nnum\n",
    "    s_squared=(x_sum-x_mean)/(nnum-ddof)\n",
    "    s=np.sqrt(s_squared)\n",
    "    #print(nnum)\n",
    "    #print(x_sum)\n",
    "    #print(x_mean)\n",
    "    #print( \"%.16f\" % float(str(s_squared)))\n",
    "    #print(s)\n",
    "    return (\"%.16f\" % float(str(s_squared)))\n",
    "wariancja(y)"
   ],
   "metadata": {
    "collapsed": false,
    "pycharm": {
     "name": "#%%\n"
    }
   }
  },
  {
   "cell_type": "code",
   "execution_count": null,
   "outputs": [],
   "source": [
    "def odchylenie_std(lista,ddof=1):#0.0000208392857143\n",
    "    nnum=lista.__len__()\n",
    "    licznik=[np.power(i-np.mean(lista),2) for i in lista]\n",
    "    licznik=np.sum(licznik)\n",
    "    standard=licznik/(nnum-ddof)\n",
    "    standard=np.sqrt(standard)\n",
    "    #print(\"%.16f\" % float(str(standard)))\n",
    "    return (\"%.16f\" % float(str(standard)))\n",
    "odchylenie_std(y)"
   ],
   "metadata": {
    "collapsed": false,
    "pycharm": {
     "name": "#%%\n"
    }
   }
  },
  {
   "cell_type": "code",
   "execution_count": null,
   "outputs": [],
   "source": [
    "def zakres(lista):\n",
    "    max=lista.max()\n",
    "    min=lista.min()\n",
    "    return min, max"
   ],
   "metadata": {
    "collapsed": false,
    "pycharm": {
     "name": "#%%\n"
    }
   }
  },
  {
   "cell_type": "code",
   "execution_count": null,
   "outputs": [],
   "source": [
    "#a)\n",
    "def probability(array, array2):\n",
    "    omega=len(array)\n",
    "    a=len(array2)\n",
    "    return float(a/omega)\n",
    "a_arr=np.array([i for i in x if i<=1])\n",
    "a=probability(x, a_arr)\n",
    "print(a)"
   ],
   "metadata": {
    "collapsed": false,
    "pycharm": {
     "name": "#%%\n"
    }
   }
  },
  {
   "cell_type": "code",
   "execution_count": null,
   "outputs": [],
   "source": [
    "#b)\n",
    "b_arr=np.array([i for i in x if i>=-2])\n",
    "b=probability(x, b_arr)\n",
    "print(b)"
   ],
   "metadata": {
    "collapsed": false,
    "pycharm": {
     "name": "#%%\n"
    }
   }
  },
  {
   "cell_type": "code",
   "execution_count": null,
   "outputs": [],
   "source": [
    "#c)\n",
    "c_arr=np.array([i for i in x if -1<=i<=1])\n",
    "c=probability(x, c_arr)\n",
    "print(c)"
   ],
   "metadata": {
    "collapsed": false,
    "pycharm": {
     "name": "#%%\n"
    }
   }
  },
  {
   "cell_type": "code",
   "execution_count": null,
   "outputs": [],
   "source": [
    "#d)\n",
    "d_arr=np.array([i for i in x if i<=-1 or i==2])\n",
    "d=probability(x, d_arr)\n",
    "print(d)"
   ],
   "metadata": {
    "collapsed": false,
    "pycharm": {
     "name": "#%%\n"
    }
   }
  },
  {
   "cell_type": "code",
   "execution_count": null,
   "outputs": [],
   "source": [
    "#e)\n",
    "def dystrybuanta(lista):\n",
    "    x=[]\n",
    "    suma=0\n",
    "    for i in range(lista.__len__()):\n",
    "        #print(y[i])\n",
    "        suma+=lista[i]\n",
    "        x.append(suma)\n",
    "    #x.insert(0,0)\n",
    "    return x\n",
    "y_copy=dystrybuanta(y)\n",
    "x_copy=list(x)\n",
    "#x_copy.insert(0,0)\n",
    "#plt.plot(x_copy, y_copy)\n",
    "for i in range(len(x_copy)):\n",
    "    plt.plot()\n",
    "plt.xlabel(\"x\")\n",
    "plt.ylabel(\"F(X)\")\n",
    "plt.show()\n",
    "#https://stackoverflow.com/questions/15408371/cumulative-distribution-plots-python\n",
    "#https://matplotlib.org/stable/gallery/statistics/histogram_cumulative.html"
   ],
   "metadata": {
    "collapsed": false,
    "pycharm": {
     "name": "#%%\n"
    }
   }
  },
  {
   "cell_type": "code",
   "execution_count": null,
   "outputs": [],
   "source": [
    "#f)\n",
    "def oczekiwana(x,y):\n",
    "    lista=[]\n",
    "    for i in range(len(x)):\n",
    "        lista.append(x[i]*y[i])\n",
    "    return sum(lista)\n",
    "    return lista\n",
    "EX=oczekiwana(x,y)\n",
    "print(EX)\n",
    "odchylenie_std([0.1,0.2,0.3,0.15,0.15,0.1])\n",
    "np.std([0.1,0.2,0.3,0.15,0.15,0.1],ddof=1)"
   ],
   "metadata": {
    "collapsed": false,
    "pycharm": {
     "name": "#%%\n"
    }
   }
  },
  {
   "cell_type": "code",
   "execution_count": null,
   "outputs": [],
   "source": [
    "#g)\n",
    "#sigma=odchylenie_std(y)\n",
    "VX=wariancja(y)\n",
    "print(VX)"
   ],
   "metadata": {
    "collapsed": false,
    "pycharm": {
     "name": "#%%\n"
    }
   }
  },
  {
   "cell_type": "code",
   "execution_count": null,
   "outputs": [],
   "source": [
    "#zad2\n",
    "x2=np.array([0,1,2,3,4])\n",
    "y2=[]\n",
    "for i in x2:\n",
    "    y2.append((2*i+1)/25)\n",
    "sum(y2)"
   ],
   "metadata": {
    "collapsed": false,
    "pycharm": {
     "name": "#%%\n"
    }
   }
  },
  {
   "cell_type": "code",
   "execution_count": null,
   "outputs": [],
   "source": [
    "def prawdo(array, string=\"\"):\n",
    "    omega=len(array)\n",
    "    array2=np.array( [x for x in array if eval(string)])\n",
    "    a=len(array2)\n",
    "    return float(a/omega)\n",
    "#a)\n",
    "print(prawdo(x2,\"x==3\"))\n",
    "#b)\n",
    "print(prawdo(x2,\"x<=1\"))\n",
    "#c)\n",
    "print(prawdo(x2,\"2<=x<4\"))\n",
    "#d)\n",
    "print(prawdo(x2,\"x>-10\"))"
   ],
   "metadata": {
    "collapsed": false,
    "pycharm": {
     "name": "#%%\n"
    }
   }
  },
  {
   "cell_type": "code",
   "execution_count": null,
   "outputs": [],
   "source": [
    "#e)\n",
    "dystrybuanta(lista=y2)"
   ],
   "metadata": {
    "collapsed": false,
    "pycharm": {
     "name": "#%%\n"
    }
   }
  },
  {
   "cell_type": "code",
   "execution_count": null,
   "outputs": [],
   "source": [
    "#f)\n",
    "oczekiwana(x2,y2)"
   ],
   "metadata": {
    "collapsed": false,
    "pycharm": {
     "name": "#%%\n"
    }
   }
  },
  {
   "cell_type": "code",
   "execution_count": null,
   "outputs": [],
   "source": [
    "#g)\n",
    "wariancja(y2,ddof=1)"
   ],
   "metadata": {
    "collapsed": false,
    "pycharm": {
     "name": "#%%\n"
    }
   }
  },
  {
   "cell_type": "code",
   "execution_count": null,
   "outputs": [],
   "source": [
    "#zad3\n",
    "#https://www.statystyka-zadania.pl/rozklad-dwumianowy/\n",
    "def enka(en,ka):\n",
    "    nsilnia=math.factorial(en)\n",
    "    ksilnia=math.factorial(ka)\n",
    "    mianownik=math.factorial(en-ka)*ksilnia\n",
    "    return nsilnia/mianownik\n",
    "enka(10,6)"
   ],
   "metadata": {
    "collapsed": false,
    "pycharm": {
     "name": "#%%\n"
    }
   }
  },
  {
   "cell_type": "code",
   "execution_count": null,
   "outputs": [],
   "source": [
    "def roz_dwumian(en,ka,pe):\n",
    "    return enka(en,ka)*pe**ka*np.power(1-pe,en-ka)\n",
    "roz_dwumian(10,6,0.9)"
   ],
   "metadata": {
    "collapsed": false,
    "pycharm": {
     "name": "#%%\n"
    }
   }
  },
  {
   "cell_type": "code",
   "execution_count": null,
   "outputs": [],
   "source": [
    "#zad5\n",
    "print((1-0.02)**40)"
   ],
   "metadata": {
    "collapsed": false,
    "pycharm": {
     "name": "#%%\n"
    }
   }
  },
  {
   "cell_type": "code",
   "execution_count": null,
   "outputs": [],
   "source": [
    "#zad6\n",
    "#https://statystyka.online/rozklad-dwumianowy-i-poissona-zadania/#1525427569640-49ddc3ca-79bd\n",
    "#http://wyznacznik.pl/rozklad-poissona-zadania"
   ],
   "metadata": {
    "collapsed": false,
    "pycharm": {
     "name": "#%%\n"
    }
   }
  }
 ],
 "metadata": {
  "kernelspec": {
   "display_name": "Python 3",
   "language": "python",
   "name": "python3"
  },
  "language_info": {
   "codemirror_mode": {
    "name": "ipython",
    "version": 2
   },
   "file_extension": ".py",
   "mimetype": "text/x-python",
   "name": "python",
   "nbconvert_exporter": "python",
   "pygments_lexer": "ipython2",
   "version": "2.7.6"
  }
 },
 "nbformat": 4,
 "nbformat_minor": 0
}