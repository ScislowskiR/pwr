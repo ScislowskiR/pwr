{
 "cells": [
  {
   "cell_type": "code",
   "execution_count": 1,
   "metadata": {
    "collapsed": true
   },
   "outputs": [],
   "source": [
    "import numpy as np\n",
    "lista=np.array([74.002, 74.003, 74.015, 74.000, 74.005, 74.002, 74.005, 74.005])\n",
    "#zad2.1"
   ]
  },
  {
   "cell_type": "code",
   "execution_count": 2,
   "outputs": [
    {
     "data": {
      "text/plain": "'0.0000208392843238'"
     },
     "execution_count": 2,
     "metadata": {},
     "output_type": "execute_result"
    }
   ],
   "source": [
    "def wariancja(lista):\n",
    "    nnum=lista.__len__()\n",
    "    x_sum=np.sum([np.power(i,2)for i in lista])\n",
    "    x_mean=np.power(np.sum(lista),2)/nnum\n",
    "    s_squared=(x_sum-x_mean)/(nnum-1)\n",
    "    s=np.sqrt(s_squared)\n",
    "    #print(nnum)\n",
    "    #print(x_sum)\n",
    "    #print(x_mean)\n",
    "    #print( \"%.16f\" % float(str(s_squared)))\n",
    "    #print(s)\n",
    "    return (\"%.16f\" % float(str(s_squared)))\n",
    "wariancja(lista)"
   ],
   "metadata": {
    "collapsed": false,
    "pycharm": {
     "name": "#%%\n"
    }
   }
  },
  {
   "cell_type": "code",
   "execution_count": null,
   "outputs": [],
   "source": [
    "#zad2.2\n",
    "wariancja(lista)\n",
    "print(\"Z bibliotekami numpy:\")\n",
    "print( \"%.16f\" % float(str(np.var(lista,ddof=1))))#próba\n",
    "print( \"%.16f\" % float(str(np.var(lista,ddof=0))))#populacja\n",
    "print(np.mean(lista))"
   ],
   "metadata": {
    "collapsed": false,
    "pycharm": {
     "name": "#%%\n"
    }
   }
  },
  {
   "cell_type": "code",
   "execution_count": null,
   "outputs": [],
   "source": [
    "#zad2.2\n",
    "def odchylenie_std(lista):#0.0000208392857143\n",
    "    nnum=lista.__len__()\n",
    "    licznik=[np.power(i-np.mean(lista),2) for i in lista]\n",
    "    licznik=np.sum(licznik)\n",
    "    standard=licznik/(nnum-1)\n",
    "    standard=np.sqrt(standard)\n",
    "    #print(\"%.16f\" % float(str(standard)))\n",
    "    return (\"%.16f\" % float(str(standard)))\n",
    "\n",
    "odchylenie_std(lista)\n",
    "print(\"Z bibliotekami numpy:\")\n",
    "print(np.std(lista,ddof=1))#próbka\n",
    "print(np.std(lista,ddof=0))#populacja"
   ],
   "metadata": {
    "collapsed": false,
    "pycharm": {
     "name": "#%%\n"
    }
   }
  },
  {
   "cell_type": "code",
   "execution_count": null,
   "outputs": [],
   "source": [
    "#zad2.2\n",
    "#Zakres\n",
    "def zakres(lista):\n",
    "    max=lista.max()\n",
    "    min=lista.min()\n",
    "    return float(max-min)\n",
    "zakres(lista)"
   ],
   "metadata": {
    "collapsed": false,
    "pycharm": {
     "name": "#%%\n"
    }
   }
  },
  {
   "cell_type": "code",
   "execution_count": null,
   "outputs": [],
   "source": [
    "#zad2.2\n",
    "import time\n",
    "import matplotlib.pyplot as plt\n",
    "plt.plot(lista,'ro')\n",
    "plt.show()"
   ],
   "metadata": {
    "collapsed": false,
    "pycharm": {
     "name": "#%%\n"
    }
   }
  },
  {
   "cell_type": "code",
   "execution_count": null,
   "outputs": [],
   "source": [
    "#zad2.3\n",
    "lista2=np.array([0.19, 0.78, 0.96, 1.31, 2.78, 3.16, 4.15, 4.67, 4.85, 6.50,\n",
    "          7.35, 8.01, 8.27, 12.06, 31.75, 32.52, 33.91, 36.71, 72.89])\n",
    "print(\"Wartość średnia próbki\")\n",
    "print(lista2.mean())\n",
    "print(\"Wariancja\")\n",
    "print(wariancja(lista2))\n",
    "print(\"Odchylenie standardowe\")\n",
    "print(odchylenie_std(lista2))"
   ],
   "metadata": {
    "collapsed": false,
    "pycharm": {
     "name": "#%%\n"
    }
   }
  },
  {
   "cell_type": "code",
   "execution_count": null,
   "outputs": [],
   "source": [
    "#zad2.4\n",
    "lista3=np.array([562, 869, 708, 775, 775, 704, 809, 856, 655, 805, 878, 909, 918, 558,\n",
    "768, 870, 918, 940, 946, 660, 820, 898, 935, 952, 957, 693, 835, 905, 939, 955, 960, 499, 653, 730,\n",
    "753])\n",
    "print(\"Wartość średnia próbki\")\n",
    "print(lista3.mean())\n",
    "print(\"Wariancja\")\n",
    "print(wariancja(lista3))\n",
    "print(\"Odchylenie standardowe\")\n",
    "print(odchylenie_std(lista3))"
   ],
   "metadata": {
    "collapsed": false,
    "pycharm": {
     "name": "#%%\n"
    }
   }
  },
  {
   "cell_type": "code",
   "execution_count": null,
   "outputs": [],
   "source": [
    "#zad2.4\n",
    "plt.plot(lista3)\n",
    "plt.axhline(lista3.mean(),color='r',linestyle='-')\n",
    "plt.show()\n",
    "\"\"\"\n",
    "Wartość średnia próbki jest średnią arytmetyczną wszystkich elementów próbki.\n",
    "Charakteryzuje wielkości najbardziej reprezentatywne dla danych, centralną\n",
    "\"tendencję\" danych, określają \"centrum\" lub \"środek\" próbki.\n",
    "\"\"\""
   ],
   "metadata": {
    "collapsed": false,
    "pycharm": {
     "name": "#%%\n"
    }
   }
  },
  {
   "cell_type": "code",
   "execution_count": null,
   "outputs": [],
   "source": [
    "#zad2.5\n",
    "\"\"\"\n",
    "Wartość średnia całookresowa prądu sinusoidalnego\n",
    "\"\"\""
   ],
   "metadata": {
    "collapsed": false,
    "pycharm": {
     "name": "#%%\n"
    }
   }
  },
  {
   "cell_type": "code",
   "execution_count": null,
   "outputs": [],
   "source": [
    "#zad2.6\n",
    "\"\"\"\n",
    "lista=[1,2,3,4,100]\n",
    "średnia=55\n",
    "n=5\n",
    "len(n<55)==4\n",
    "\"\"\""
   ],
   "metadata": {
    "collapsed": false,
    "pycharm": {
     "name": "#%%\n"
    }
   }
  },
  {
   "cell_type": "code",
   "execution_count": null,
   "outputs": [],
   "source": [
    "#zad2.7"
   ],
   "metadata": {
    "collapsed": false,
    "pycharm": {
     "name": "#%%\n"
    }
   }
  },
  {
   "cell_type": "code",
   "execution_count": null,
   "outputs": [],
   "source": [
    "#zad2.8"
   ],
   "metadata": {
    "collapsed": false,
    "pycharm": {
     "name": "#%%\n"
    }
   }
  },
  {
   "cell_type": "code",
   "execution_count": null,
   "outputs": [],
   "source": [
    "#zad2.9"
   ],
   "metadata": {
    "collapsed": false,
    "pycharm": {
     "name": "#%%\n"
    }
   }
  },
  {
   "cell_type": "code",
   "execution_count": null,
   "outputs": [],
   "source": [
    "#zad2.10\n",
    "#Sześć cyfr to populacja\n",
    "\n",
    "#Sześć wyników pomiarów stężenia pH to póbka"
   ],
   "metadata": {
    "collapsed": false,
    "pycharm": {
     "name": "#%%\n"
    }
   }
  },
  {
   "cell_type": "code",
   "execution_count": null,
   "outputs": [],
   "source": [
    "#zad2.11\n",
    "lista4=np.array([63.2, 67.1, 65.8, 64.0, 66.1, 65.9])\n",
    "\n",
    "print(\"Wartość średnia próbki\")\n",
    "print(lista4.mean())\n",
    "\n",
    "\n",
    "print(\"Wariancja\")\n",
    "print(wariancja(lista4))\n",
    "print(\"Odchylenie standardowe\")\n",
    "print(odchylenie_std(lista4))\n",
    "plt.plot(lista4)\n",
    "plt.axhline(lista4.mean(),color='r',linestyle='-')\n",
    "plt.show()\n",
    "#To zależy od tolerancji, jaką chcielibyśmy przyjąć"
   ],
   "metadata": {
    "collapsed": false,
    "pycharm": {
     "name": "#%%\n"
    }
   }
  }
 ],
 "metadata": {
  "kernelspec": {
   "display_name": "Python 3",
   "language": "python",
   "name": "python3"
  },
  "language_info": {
   "codemirror_mode": {
    "name": "ipython",
    "version": 2
   },
   "file_extension": ".py",
   "mimetype": "text/x-python",
   "name": "python",
   "nbconvert_exporter": "python",
   "pygments_lexer": "ipython2",
   "version": "2.7.6"
  }
 },
 "nbformat": 4,
 "nbformat_minor": 0
}